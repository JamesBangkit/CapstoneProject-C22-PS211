{
  "cells": [
    {
      "cell_type": "code",
      "execution_count": null,
      "id": "33fb4f23",
      "metadata": {
        "id": "33fb4f23"
      },
      "outputs": [],
      "source": [
        "# Import library and API\n",
        "import numpy as np\n",
        "import tensorflow as tf\n",
        "import matplotlib.pyplot as plt\n",
        "import seaborn as sns\n",
        "import os\n",
        "import zipfile\n",
        "import random\n",
        "import shutil\n",
        "import sklearn\n",
        "import pathlib \n",
        "import imageio\n",
        "import cv2\n",
        "\n",
        "\n",
        "from tensorflow.keras import models, layers, Model, optimizers, losses\n",
        "from tensorflow.keras.preprocessing.image import ImageDataGenerator\n",
        "from keras.preprocessing import image\n",
        "from google.colab import drive, files\n",
        "from sklearn.metrics import confusion_matrix, precision_score, recall_score, accuracy_score, f1_score\n",
        "from PIL import Image"
      ]
    },
    {
      "cell_type": "markdown",
      "source": [
        "# Load Dataset"
      ],
      "metadata": {
        "id": "_XcybLjIhm2j"
      },
      "id": "_XcybLjIhm2j"
    },
    {
      "cell_type": "code",
      "source": [
        "# Mount file from Google Drive\n",
        "drive.mount('/content/gdrive')"
      ],
      "metadata": {
        "id": "MFOatS6YrKxP"
      },
      "id": "MFOatS6YrKxP",
      "execution_count": null,
      "outputs": []
    },
    {
      "cell_type": "code",
      "source": [
        "# Unzip Dataset folder from Google Drive\n",
        "!unzip gdrive/My\\ Drive/Data/Data8020.zip"
      ],
      "metadata": {
        "id": "KToDFmnKDG3c"
      },
      "execution_count": null,
      "outputs": [],
      "id": "KToDFmnKDG3c"
    },
    {
      "cell_type": "code",
      "execution_count": null,
      "id": "7c8866e4",
      "metadata": {
        "id": "7c8866e4"
      },
      "outputs": [],
      "source": [
        "# Create Train and Test Directory\n",
        "base_dir = '/content/Data2/Data'\n",
        "\n",
        "train_dir = os.path.join(base_dir, 'train')\n",
        "test_dir = os.path.join(base_dir, 'test')"
      ]
    },
    {
      "cell_type": "markdown",
      "source": [
        "Augment Image"
      ],
      "metadata": {
        "id": "BKZdg51iiWRi"
      },
      "id": "BKZdg51iiWRi"
    },
    {
      "cell_type": "code",
      "execution_count": null,
      "id": "e642206c",
      "metadata": {
        "colab": {
          "base_uri": "https://localhost:8080/"
        },
        "id": "e642206c",
        "outputId": "88ef0ae1-6fc9-4597-d5f8-5320cdb167a8"
      },
      "outputs": [
        {
          "output_type": "stream",
          "name": "stdout",
          "text": [
            "Found 400 images belonging to 5 classes.\n",
            "Found 100 images belonging to 5 classes.\n"
          ]
        }
      ],
      "source": [
        "# Augment Image from Dataset\n",
        "\n",
        "# Instantiate the ImageDataGenerator class\n",
        "train_datagen = ImageDataGenerator(rescale=1./255,\n",
        "                                 rotation_range=60,\n",
        "                                 shear_range=0.2,\n",
        "                                 zoom_range=0.1,\n",
        "                                 horizontal_flip=True,\n",
        "                                 fill_mode='nearest')\n",
        "\n",
        "# Pass in the appropriate arguments to the flow_from_directory method\n",
        "train_dataset = train_datagen.flow_from_directory(directory=train_dir,\n",
        "                                                  batch_size=32,\n",
        "                                                  target_size=(224, 224))\n",
        "\n",
        "# Instantiate the ImageDataGenerator class\n",
        "validation_datagen = ImageDataGenerator(rescale=1./255)\n",
        "\n",
        "# Pass in the appropriate arguments to the flow_from_directory method\n",
        "validation_dataset = validation_datagen.flow_from_directory(directory=test_dir,\n",
        "                                                shuffle = False,\n",
        "                                                batch_size=32,\n",
        "                                                target_size=(224, 224))"
      ]
    },
    {
      "cell_type": "code",
      "execution_count": null,
      "id": "82da57a8",
      "metadata": {
        "id": "82da57a8"
      },
      "outputs": [],
      "source": [
        "class_index = train_dataset.class_indices\n",
        "print(class_index)"
      ]
    },
    {
      "cell_type": "markdown",
      "source": [
        "# Create and Train Model"
      ],
      "metadata": {
        "id": "yz-IB26CFvnc"
      },
      "id": "yz-IB26CFvnc"
    },
    {
      "cell_type": "code",
      "execution_count": null,
      "id": "88575e72",
      "metadata": {
        "id": "88575e72"
      },
      "outputs": [],
      "source": [
        "# Create Model\n",
        "def create_model():\n",
        "    model = tf.keras.models.Sequential([ \n",
        "        tf.keras.layers.Conv2D(64, (3,3), activation='relu', input_shape=(224,224,3)),\n",
        "        tf.keras.layers.MaxPooling2D(2,2),\n",
        "        tf.keras.layers.Conv2D(32, (3,3), activation='relu'),\n",
        "        tf.keras.layers.MaxPooling2D(2,2),\n",
        "        tf.keras.layers.Flatten(),\n",
        "        tf.keras.layers.Dense(128, activation = 'relu'),\n",
        "        tf.keras.layers.Dense(5, activation='softmax')\n",
        "      ]) \n",
        "    model.summary()\n",
        "\n",
        "\n",
        "    model.compile(loss=losses.categorical_crossentropy,\n",
        "                    optimizer=tf.keras.optimizers.Adam(learning_rate=0.001),\n",
        "                    metrics=['accuracy']) \n",
        "\n",
        "    return model"
      ]
    },
    {
      "cell_type": "code",
      "execution_count": null,
      "id": "6679c30a",
      "metadata": {
        "id": "6679c30a"
      },
      "outputs": [],
      "source": [
        "# class myCallback(tf.keras.callbacks.Callback):\n",
        "#     def on_epoch_end(self, epoch, logs={}):\n",
        "#         if (logs.get('accuracy') is not None and logs.get('accuracy') > 0.90):\n",
        "#             print(\"\\nReached 90% accuracy so cancelling training!\")\n",
        "#             self.model.stop_training = True\n",
        "# # Instantiate class\n",
        "# callbacks = myCallback()"
      ]
    },
    {
      "cell_type": "code",
      "execution_count": null,
      "id": "0c5ed7ef",
      "metadata": {
        "colab": {
          "base_uri": "https://localhost:8080/"
        },
        "id": "0c5ed7ef",
        "outputId": "dcaab0fb-6ea8-4e86-d8b3-753b1dcf9aa2"
      },
      "outputs": [
        {
          "output_type": "stream",
          "name": "stdout",
          "text": [
            "Model: \"sequential_2\"\n",
            "_________________________________________________________________\n",
            " Layer (type)                Output Shape              Param #   \n",
            "=================================================================\n",
            " conv2d_4 (Conv2D)           (None, 222, 222, 64)      1792      \n",
            "                                                                 \n",
            " max_pooling2d_4 (MaxPooling  (None, 111, 111, 64)     0         \n",
            " 2D)                                                             \n",
            "                                                                 \n",
            " conv2d_5 (Conv2D)           (None, 109, 109, 32)      18464     \n",
            "                                                                 \n",
            " max_pooling2d_5 (MaxPooling  (None, 54, 54, 32)       0         \n",
            " 2D)                                                             \n",
            "                                                                 \n",
            " flatten_2 (Flatten)         (None, 93312)             0         \n",
            "                                                                 \n",
            " dense_5 (Dense)             (None, 128)               11944064  \n",
            "                                                                 \n",
            " dense_6 (Dense)             (None, 5)                 645       \n",
            "                                                                 \n",
            "=================================================================\n",
            "Total params: 11,964,965\n",
            "Trainable params: 11,964,965\n",
            "Non-trainable params: 0\n",
            "_________________________________________________________________\n",
            "Epoch 1/150\n",
            "13/13 [==============================] - 8s 579ms/step - loss: 2.0867 - accuracy: 0.2075 - val_loss: 1.5813 - val_accuracy: 0.2000\n",
            "Epoch 2/150\n",
            "13/13 [==============================] - 7s 556ms/step - loss: 1.5659 - accuracy: 0.2150 - val_loss: 1.5579 - val_accuracy: 0.2700\n",
            "Epoch 3/150\n",
            "13/13 [==============================] - 7s 560ms/step - loss: 1.5334 - accuracy: 0.2925 - val_loss: 1.5549 - val_accuracy: 0.2600\n",
            "Epoch 4/150\n",
            "13/13 [==============================] - 7s 554ms/step - loss: 1.5118 - accuracy: 0.3325 - val_loss: 1.5230 - val_accuracy: 0.2600\n",
            "Epoch 5/150\n",
            "13/13 [==============================] - 7s 552ms/step - loss: 1.5115 - accuracy: 0.3125 - val_loss: 1.5386 - val_accuracy: 0.2800\n",
            "Epoch 6/150\n",
            "13/13 [==============================] - 7s 577ms/step - loss: 1.4942 - accuracy: 0.3150 - val_loss: 1.4979 - val_accuracy: 0.2700\n",
            "Epoch 7/150\n",
            "13/13 [==============================] - 7s 554ms/step - loss: 1.4995 - accuracy: 0.2975 - val_loss: 1.5174 - val_accuracy: 0.3200\n",
            "Epoch 8/150\n",
            "13/13 [==============================] - 7s 548ms/step - loss: 1.4913 - accuracy: 0.3050 - val_loss: 1.5169 - val_accuracy: 0.3100\n",
            "Epoch 9/150\n",
            "13/13 [==============================] - 7s 544ms/step - loss: 1.4747 - accuracy: 0.3175 - val_loss: 1.5004 - val_accuracy: 0.2700\n",
            "Epoch 10/150\n",
            "13/13 [==============================] - 7s 549ms/step - loss: 1.4641 - accuracy: 0.3175 - val_loss: 1.5059 - val_accuracy: 0.3000\n",
            "Epoch 11/150\n",
            "13/13 [==============================] - 7s 542ms/step - loss: 1.4342 - accuracy: 0.3425 - val_loss: 1.5015 - val_accuracy: 0.3300\n",
            "Epoch 12/150\n",
            "13/13 [==============================] - 7s 547ms/step - loss: 1.4305 - accuracy: 0.3200 - val_loss: 1.4941 - val_accuracy: 0.2900\n",
            "Epoch 13/150\n",
            "13/13 [==============================] - 7s 545ms/step - loss: 1.4338 - accuracy: 0.2900 - val_loss: 1.4774 - val_accuracy: 0.3300\n",
            "Epoch 14/150\n",
            "13/13 [==============================] - 7s 545ms/step - loss: 1.4223 - accuracy: 0.3450 - val_loss: 1.4491 - val_accuracy: 0.3300\n",
            "Epoch 15/150\n",
            "13/13 [==============================] - 7s 548ms/step - loss: 1.3990 - accuracy: 0.3500 - val_loss: 1.4457 - val_accuracy: 0.3500\n",
            "Epoch 16/150\n",
            "13/13 [==============================] - 7s 540ms/step - loss: 1.3703 - accuracy: 0.3825 - val_loss: 1.4507 - val_accuracy: 0.3200\n",
            "Epoch 17/150\n",
            "13/13 [==============================] - 7s 535ms/step - loss: 1.3906 - accuracy: 0.3725 - val_loss: 1.4468 - val_accuracy: 0.3100\n",
            "Epoch 18/150\n",
            "13/13 [==============================] - 7s 539ms/step - loss: 1.3889 - accuracy: 0.3600 - val_loss: 1.4657 - val_accuracy: 0.3100\n",
            "Epoch 19/150\n",
            "13/13 [==============================] - 7s 544ms/step - loss: 1.4053 - accuracy: 0.3975 - val_loss: 1.3615 - val_accuracy: 0.4000\n",
            "Epoch 20/150\n",
            "13/13 [==============================] - 7s 538ms/step - loss: 1.3649 - accuracy: 0.3975 - val_loss: 1.4340 - val_accuracy: 0.3200\n",
            "Epoch 21/150\n",
            "13/13 [==============================] - 7s 542ms/step - loss: 1.3622 - accuracy: 0.3700 - val_loss: 1.4779 - val_accuracy: 0.2900\n",
            "Epoch 22/150\n",
            "13/13 [==============================] - 7s 544ms/step - loss: 1.3740 - accuracy: 0.3625 - val_loss: 1.4045 - val_accuracy: 0.3600\n",
            "Epoch 23/150\n",
            "13/13 [==============================] - 7s 541ms/step - loss: 1.3564 - accuracy: 0.3850 - val_loss: 1.4328 - val_accuracy: 0.3200\n",
            "Epoch 24/150\n",
            "13/13 [==============================] - 7s 566ms/step - loss: 1.3644 - accuracy: 0.4200 - val_loss: 1.4179 - val_accuracy: 0.3100\n",
            "Epoch 25/150\n",
            "13/13 [==============================] - 8s 577ms/step - loss: 1.3423 - accuracy: 0.4000 - val_loss: 1.4365 - val_accuracy: 0.2700\n",
            "Epoch 26/150\n",
            "13/13 [==============================] - 7s 544ms/step - loss: 1.3438 - accuracy: 0.3950 - val_loss: 1.8560 - val_accuracy: 0.2600\n",
            "Epoch 27/150\n",
            "13/13 [==============================] - 7s 541ms/step - loss: 1.3996 - accuracy: 0.3975 - val_loss: 1.3804 - val_accuracy: 0.3500\n",
            "Epoch 28/150\n",
            "13/13 [==============================] - 7s 545ms/step - loss: 1.2989 - accuracy: 0.4175 - val_loss: 1.3108 - val_accuracy: 0.4500\n",
            "Epoch 29/150\n",
            "13/13 [==============================] - 7s 539ms/step - loss: 1.2813 - accuracy: 0.4325 - val_loss: 1.3506 - val_accuracy: 0.3600\n",
            "Epoch 30/150\n",
            "13/13 [==============================] - 7s 538ms/step - loss: 1.2881 - accuracy: 0.4075 - val_loss: 1.3743 - val_accuracy: 0.4300\n",
            "Epoch 31/150\n",
            "13/13 [==============================] - 7s 540ms/step - loss: 1.2621 - accuracy: 0.4175 - val_loss: 1.3556 - val_accuracy: 0.3900\n",
            "Epoch 32/150\n",
            "13/13 [==============================] - 7s 567ms/step - loss: 1.2914 - accuracy: 0.4075 - val_loss: 1.3105 - val_accuracy: 0.4100\n",
            "Epoch 33/150\n",
            "13/13 [==============================] - 7s 539ms/step - loss: 1.2322 - accuracy: 0.4425 - val_loss: 1.3512 - val_accuracy: 0.3700\n",
            "Epoch 34/150\n",
            "13/13 [==============================] - 7s 556ms/step - loss: 1.2722 - accuracy: 0.4375 - val_loss: 1.3616 - val_accuracy: 0.4300\n",
            "Epoch 35/150\n",
            "13/13 [==============================] - 7s 535ms/step - loss: 1.2797 - accuracy: 0.4300 - val_loss: 1.3740 - val_accuracy: 0.3400\n",
            "Epoch 36/150\n",
            "13/13 [==============================] - 7s 537ms/step - loss: 1.2496 - accuracy: 0.4625 - val_loss: 1.3575 - val_accuracy: 0.4800\n",
            "Epoch 37/150\n",
            "13/13 [==============================] - 7s 541ms/step - loss: 1.2117 - accuracy: 0.4675 - val_loss: 1.2926 - val_accuracy: 0.4400\n",
            "Epoch 38/150\n",
            "13/13 [==============================] - 7s 541ms/step - loss: 1.2251 - accuracy: 0.4675 - val_loss: 1.4638 - val_accuracy: 0.3900\n",
            "Epoch 39/150\n",
            "13/13 [==============================] - 7s 541ms/step - loss: 1.2222 - accuracy: 0.4775 - val_loss: 1.2641 - val_accuracy: 0.4400\n",
            "Epoch 40/150\n",
            "13/13 [==============================] - 7s 542ms/step - loss: 1.1765 - accuracy: 0.4950 - val_loss: 1.2654 - val_accuracy: 0.4600\n",
            "Epoch 41/150\n",
            "13/13 [==============================] - 7s 543ms/step - loss: 1.1541 - accuracy: 0.5050 - val_loss: 1.3248 - val_accuracy: 0.4000\n",
            "Epoch 42/150\n",
            "13/13 [==============================] - 7s 539ms/step - loss: 1.2063 - accuracy: 0.4525 - val_loss: 1.2940 - val_accuracy: 0.4600\n",
            "Epoch 43/150\n",
            "13/13 [==============================] - 7s 541ms/step - loss: 1.1610 - accuracy: 0.4775 - val_loss: 1.2410 - val_accuracy: 0.4200\n",
            "Epoch 44/150\n",
            "13/13 [==============================] - 7s 540ms/step - loss: 1.1946 - accuracy: 0.4800 - val_loss: 1.2682 - val_accuracy: 0.4200\n",
            "Epoch 45/150\n",
            "13/13 [==============================] - 7s 542ms/step - loss: 1.1361 - accuracy: 0.5025 - val_loss: 1.3126 - val_accuracy: 0.4600\n",
            "Epoch 46/150\n",
            "13/13 [==============================] - 7s 544ms/step - loss: 1.1638 - accuracy: 0.4825 - val_loss: 1.2051 - val_accuracy: 0.4900\n",
            "Epoch 47/150\n",
            "13/13 [==============================] - 7s 543ms/step - loss: 1.1903 - accuracy: 0.4800 - val_loss: 1.3274 - val_accuracy: 0.4500\n",
            "Epoch 48/150\n",
            "13/13 [==============================] - 7s 539ms/step - loss: 1.1354 - accuracy: 0.5200 - val_loss: 1.2108 - val_accuracy: 0.5300\n",
            "Epoch 49/150\n",
            "13/13 [==============================] - 7s 541ms/step - loss: 1.1172 - accuracy: 0.5125 - val_loss: 1.1882 - val_accuracy: 0.5000\n",
            "Epoch 50/150\n",
            "13/13 [==============================] - 7s 539ms/step - loss: 1.1323 - accuracy: 0.5125 - val_loss: 1.1871 - val_accuracy: 0.4900\n",
            "Epoch 51/150\n",
            "13/13 [==============================] - 7s 537ms/step - loss: 1.0820 - accuracy: 0.5375 - val_loss: 1.2096 - val_accuracy: 0.5300\n",
            "Epoch 52/150\n",
            "13/13 [==============================] - 7s 536ms/step - loss: 1.1046 - accuracy: 0.5475 - val_loss: 1.1988 - val_accuracy: 0.5100\n",
            "Epoch 53/150\n",
            "13/13 [==============================] - 7s 539ms/step - loss: 1.0723 - accuracy: 0.5375 - val_loss: 1.2557 - val_accuracy: 0.4600\n",
            "Epoch 54/150\n",
            "13/13 [==============================] - 7s 540ms/step - loss: 1.0874 - accuracy: 0.5450 - val_loss: 1.2574 - val_accuracy: 0.4800\n",
            "Epoch 55/150\n",
            "13/13 [==============================] - 7s 538ms/step - loss: 1.1346 - accuracy: 0.5575 - val_loss: 1.2386 - val_accuracy: 0.4300\n",
            "Epoch 56/150\n",
            "13/13 [==============================] - 7s 536ms/step - loss: 1.0561 - accuracy: 0.5700 - val_loss: 1.1627 - val_accuracy: 0.4300\n",
            "Epoch 57/150\n",
            "13/13 [==============================] - 7s 537ms/step - loss: 1.0375 - accuracy: 0.5475 - val_loss: 1.0951 - val_accuracy: 0.5100\n",
            "Epoch 58/150\n",
            "13/13 [==============================] - 7s 539ms/step - loss: 1.0444 - accuracy: 0.5650 - val_loss: 1.1791 - val_accuracy: 0.4900\n",
            "Epoch 59/150\n",
            "13/13 [==============================] - 7s 539ms/step - loss: 1.0980 - accuracy: 0.5325 - val_loss: 1.1341 - val_accuracy: 0.4900\n",
            "Epoch 60/150\n",
            "13/13 [==============================] - 7s 538ms/step - loss: 1.0222 - accuracy: 0.5625 - val_loss: 1.1180 - val_accuracy: 0.5500\n",
            "Epoch 61/150\n",
            "13/13 [==============================] - 7s 539ms/step - loss: 1.0427 - accuracy: 0.5575 - val_loss: 1.2839 - val_accuracy: 0.5100\n",
            "Epoch 62/150\n",
            "13/13 [==============================] - 7s 541ms/step - loss: 0.9909 - accuracy: 0.5700 - val_loss: 1.1001 - val_accuracy: 0.5300\n",
            "Epoch 63/150\n",
            "13/13 [==============================] - 7s 547ms/step - loss: 1.0208 - accuracy: 0.5800 - val_loss: 1.0523 - val_accuracy: 0.5500\n",
            "Epoch 64/150\n",
            "13/13 [==============================] - 7s 538ms/step - loss: 0.9695 - accuracy: 0.5975 - val_loss: 1.0619 - val_accuracy: 0.5500\n",
            "Epoch 65/150\n",
            "13/13 [==============================] - 7s 540ms/step - loss: 0.9608 - accuracy: 0.5975 - val_loss: 0.9843 - val_accuracy: 0.6300\n",
            "Epoch 66/150\n",
            "13/13 [==============================] - 7s 540ms/step - loss: 0.9841 - accuracy: 0.5900 - val_loss: 1.1880 - val_accuracy: 0.5800\n",
            "Epoch 67/150\n",
            "13/13 [==============================] - 7s 543ms/step - loss: 0.9936 - accuracy: 0.5750 - val_loss: 1.1290 - val_accuracy: 0.5700\n",
            "Epoch 68/150\n",
            "13/13 [==============================] - 7s 537ms/step - loss: 0.9659 - accuracy: 0.5800 - val_loss: 1.2576 - val_accuracy: 0.5100\n",
            "Epoch 69/150\n",
            "13/13 [==============================] - 7s 547ms/step - loss: 1.0319 - accuracy: 0.5600 - val_loss: 1.0213 - val_accuracy: 0.6000\n",
            "Epoch 70/150\n",
            "13/13 [==============================] - 8s 611ms/step - loss: 0.8990 - accuracy: 0.6525 - val_loss: 1.2270 - val_accuracy: 0.5200\n",
            "Epoch 71/150\n",
            "13/13 [==============================] - 7s 540ms/step - loss: 0.9808 - accuracy: 0.6100 - val_loss: 0.9747 - val_accuracy: 0.6100\n",
            "Epoch 72/150\n",
            "13/13 [==============================] - 7s 562ms/step - loss: 1.0633 - accuracy: 0.5400 - val_loss: 1.2111 - val_accuracy: 0.5200\n",
            "Epoch 73/150\n",
            "13/13 [==============================] - 7s 538ms/step - loss: 1.0939 - accuracy: 0.5475 - val_loss: 1.3719 - val_accuracy: 0.4700\n",
            "Epoch 74/150\n",
            "13/13 [==============================] - 7s 539ms/step - loss: 1.0315 - accuracy: 0.5650 - val_loss: 1.0691 - val_accuracy: 0.5600\n",
            "Epoch 75/150\n",
            "13/13 [==============================] - 7s 532ms/step - loss: 1.0372 - accuracy: 0.5950 - val_loss: 1.0526 - val_accuracy: 0.6000\n",
            "Epoch 76/150\n",
            "13/13 [==============================] - 7s 534ms/step - loss: 0.9802 - accuracy: 0.5825 - val_loss: 1.2256 - val_accuracy: 0.5400\n",
            "Epoch 77/150\n",
            "13/13 [==============================] - 7s 555ms/step - loss: 0.9309 - accuracy: 0.6100 - val_loss: 1.0716 - val_accuracy: 0.6300\n",
            "Epoch 78/150\n",
            "13/13 [==============================] - 7s 535ms/step - loss: 0.9049 - accuracy: 0.6200 - val_loss: 1.0831 - val_accuracy: 0.5600\n",
            "Epoch 79/150\n",
            "13/13 [==============================] - 7s 534ms/step - loss: 0.9601 - accuracy: 0.6100 - val_loss: 0.9832 - val_accuracy: 0.6100\n",
            "Epoch 80/150\n",
            "13/13 [==============================] - 7s 538ms/step - loss: 0.9591 - accuracy: 0.6350 - val_loss: 0.9546 - val_accuracy: 0.6000\n",
            "Epoch 81/150\n",
            "13/13 [==============================] - 7s 539ms/step - loss: 0.9133 - accuracy: 0.6250 - val_loss: 1.0187 - val_accuracy: 0.5400\n",
            "Epoch 82/150\n",
            "13/13 [==============================] - 7s 537ms/step - loss: 0.9140 - accuracy: 0.6050 - val_loss: 0.9063 - val_accuracy: 0.6300\n",
            "Epoch 83/150\n",
            "13/13 [==============================] - 7s 560ms/step - loss: 0.8877 - accuracy: 0.6300 - val_loss: 0.9197 - val_accuracy: 0.6300\n",
            "Epoch 84/150\n",
            "13/13 [==============================] - 7s 539ms/step - loss: 0.8781 - accuracy: 0.6575 - val_loss: 1.0755 - val_accuracy: 0.5800\n",
            "Epoch 85/150\n",
            "13/13 [==============================] - 7s 537ms/step - loss: 0.9434 - accuracy: 0.6200 - val_loss: 0.9733 - val_accuracy: 0.6300\n",
            "Epoch 86/150\n",
            "13/13 [==============================] - 7s 538ms/step - loss: 0.9539 - accuracy: 0.6375 - val_loss: 0.9616 - val_accuracy: 0.6100\n",
            "Epoch 87/150\n",
            "13/13 [==============================] - 7s 559ms/step - loss: 0.8549 - accuracy: 0.6425 - val_loss: 0.8453 - val_accuracy: 0.6900\n",
            "Epoch 88/150\n",
            "13/13 [==============================] - 7s 560ms/step - loss: 0.7913 - accuracy: 0.6900 - val_loss: 0.8366 - val_accuracy: 0.6200\n",
            "Epoch 89/150\n",
            "13/13 [==============================] - 7s 540ms/step - loss: 0.8626 - accuracy: 0.6550 - val_loss: 0.8239 - val_accuracy: 0.6400\n",
            "Epoch 90/150\n",
            "13/13 [==============================] - 7s 539ms/step - loss: 0.8469 - accuracy: 0.6750 - val_loss: 0.9683 - val_accuracy: 0.6700\n",
            "Epoch 91/150\n",
            "13/13 [==============================] - 7s 544ms/step - loss: 0.8190 - accuracy: 0.6725 - val_loss: 0.8508 - val_accuracy: 0.6400\n",
            "Epoch 92/150\n",
            "13/13 [==============================] - 7s 558ms/step - loss: 0.8046 - accuracy: 0.7000 - val_loss: 0.8184 - val_accuracy: 0.6700\n",
            "Epoch 93/150\n",
            "13/13 [==============================] - 7s 561ms/step - loss: 0.8285 - accuracy: 0.6625 - val_loss: 0.7558 - val_accuracy: 0.6700\n",
            "Epoch 94/150\n",
            "13/13 [==============================] - 7s 536ms/step - loss: 0.7206 - accuracy: 0.7325 - val_loss: 0.8230 - val_accuracy: 0.6700\n",
            "Epoch 95/150\n",
            "13/13 [==============================] - 7s 536ms/step - loss: 0.7197 - accuracy: 0.7100 - val_loss: 0.7975 - val_accuracy: 0.6600\n",
            "Epoch 96/150\n",
            "13/13 [==============================] - 7s 560ms/step - loss: 0.7443 - accuracy: 0.6875 - val_loss: 0.8226 - val_accuracy: 0.6800\n",
            "Epoch 97/150\n",
            "13/13 [==============================] - 7s 541ms/step - loss: 0.8082 - accuracy: 0.7075 - val_loss: 1.1403 - val_accuracy: 0.5800\n",
            "Epoch 98/150\n",
            "13/13 [==============================] - 7s 541ms/step - loss: 0.7633 - accuracy: 0.6950 - val_loss: 0.8065 - val_accuracy: 0.7000\n",
            "Epoch 99/150\n",
            "13/13 [==============================] - 7s 537ms/step - loss: 0.7956 - accuracy: 0.6900 - val_loss: 0.8300 - val_accuracy: 0.6900\n",
            "Epoch 100/150\n",
            "13/13 [==============================] - 7s 535ms/step - loss: 0.6499 - accuracy: 0.7700 - val_loss: 0.7715 - val_accuracy: 0.6600\n",
            "Epoch 101/150\n",
            "13/13 [==============================] - 7s 543ms/step - loss: 0.7027 - accuracy: 0.7100 - val_loss: 0.7199 - val_accuracy: 0.7300\n",
            "Epoch 102/150\n",
            "13/13 [==============================] - 7s 549ms/step - loss: 0.6780 - accuracy: 0.7250 - val_loss: 0.8199 - val_accuracy: 0.6200\n",
            "Epoch 103/150\n",
            "13/13 [==============================] - 7s 543ms/step - loss: 0.7541 - accuracy: 0.6975 - val_loss: 1.0583 - val_accuracy: 0.6200\n",
            "Epoch 104/150\n",
            "13/13 [==============================] - 8s 590ms/step - loss: 0.8035 - accuracy: 0.6925 - val_loss: 1.1853 - val_accuracy: 0.5900\n",
            "Epoch 105/150\n",
            "13/13 [==============================] - 7s 536ms/step - loss: 0.9449 - accuracy: 0.6475 - val_loss: 0.8502 - val_accuracy: 0.6800\n",
            "Epoch 106/150\n",
            "13/13 [==============================] - 7s 544ms/step - loss: 0.8721 - accuracy: 0.6400 - val_loss: 0.8578 - val_accuracy: 0.7100\n",
            "Epoch 107/150\n",
            "13/13 [==============================] - 7s 538ms/step - loss: 0.7753 - accuracy: 0.6825 - val_loss: 0.8760 - val_accuracy: 0.7300\n",
            "Epoch 108/150\n",
            "13/13 [==============================] - 7s 561ms/step - loss: 0.7092 - accuracy: 0.7150 - val_loss: 0.8086 - val_accuracy: 0.7000\n",
            "Epoch 109/150\n",
            "13/13 [==============================] - 7s 537ms/step - loss: 0.6487 - accuracy: 0.7600 - val_loss: 0.8089 - val_accuracy: 0.7000\n",
            "Epoch 110/150\n",
            "13/13 [==============================] - 7s 535ms/step - loss: 0.6084 - accuracy: 0.7575 - val_loss: 0.8029 - val_accuracy: 0.7500\n",
            "Epoch 111/150\n",
            "13/13 [==============================] - 7s 540ms/step - loss: 0.6446 - accuracy: 0.7600 - val_loss: 0.7553 - val_accuracy: 0.7500\n",
            "Epoch 112/150\n",
            "13/13 [==============================] - 7s 540ms/step - loss: 0.6057 - accuracy: 0.7750 - val_loss: 0.8430 - val_accuracy: 0.7200\n",
            "Epoch 113/150\n",
            "13/13 [==============================] - 7s 539ms/step - loss: 0.6226 - accuracy: 0.7725 - val_loss: 0.8233 - val_accuracy: 0.7500\n",
            "Epoch 114/150\n",
            "13/13 [==============================] - 7s 541ms/step - loss: 0.6322 - accuracy: 0.7675 - val_loss: 0.9150 - val_accuracy: 0.6800\n",
            "Epoch 115/150\n",
            "13/13 [==============================] - 7s 539ms/step - loss: 0.8696 - accuracy: 0.6775 - val_loss: 1.0600 - val_accuracy: 0.6100\n",
            "Epoch 116/150\n",
            "13/13 [==============================] - 8s 633ms/step - loss: 0.7932 - accuracy: 0.7000 - val_loss: 0.8864 - val_accuracy: 0.7000\n",
            "Epoch 117/150\n",
            "13/13 [==============================] - 7s 536ms/step - loss: 0.6926 - accuracy: 0.7275 - val_loss: 0.9492 - val_accuracy: 0.6000\n",
            "Epoch 118/150\n",
            "13/13 [==============================] - 7s 535ms/step - loss: 0.6062 - accuracy: 0.7650 - val_loss: 0.7446 - val_accuracy: 0.7700\n",
            "Epoch 119/150\n",
            "13/13 [==============================] - 7s 539ms/step - loss: 0.6293 - accuracy: 0.7700 - val_loss: 0.7645 - val_accuracy: 0.7400\n",
            "Epoch 120/150\n",
            "13/13 [==============================] - 7s 536ms/step - loss: 0.6853 - accuracy: 0.7450 - val_loss: 0.7245 - val_accuracy: 0.7300\n",
            "Epoch 121/150\n",
            "13/13 [==============================] - 7s 535ms/step - loss: 0.6295 - accuracy: 0.7475 - val_loss: 0.6876 - val_accuracy: 0.7500\n",
            "Epoch 122/150\n",
            "13/13 [==============================] - 7s 539ms/step - loss: 0.6313 - accuracy: 0.7525 - val_loss: 0.6253 - val_accuracy: 0.7900\n",
            "Epoch 123/150\n",
            "13/13 [==============================] - 7s 566ms/step - loss: 0.5542 - accuracy: 0.7950 - val_loss: 0.7216 - val_accuracy: 0.7500\n",
            "Epoch 124/150\n",
            "13/13 [==============================] - 7s 537ms/step - loss: 0.5114 - accuracy: 0.8050 - val_loss: 0.6489 - val_accuracy: 0.7900\n",
            "Epoch 125/150\n",
            "13/13 [==============================] - 7s 536ms/step - loss: 0.5065 - accuracy: 0.8275 - val_loss: 0.6275 - val_accuracy: 0.7700\n",
            "Epoch 126/150\n",
            "13/13 [==============================] - 7s 539ms/step - loss: 0.4814 - accuracy: 0.8150 - val_loss: 0.7368 - val_accuracy: 0.7600\n",
            "Epoch 127/150\n",
            "13/13 [==============================] - 7s 537ms/step - loss: 0.5292 - accuracy: 0.7925 - val_loss: 0.6697 - val_accuracy: 0.7400\n",
            "Epoch 128/150\n",
            "13/13 [==============================] - 7s 536ms/step - loss: 0.4932 - accuracy: 0.8250 - val_loss: 0.6694 - val_accuracy: 0.7600\n",
            "Epoch 129/150\n",
            "13/13 [==============================] - 7s 540ms/step - loss: 0.5404 - accuracy: 0.7975 - val_loss: 1.3709 - val_accuracy: 0.5900\n",
            "Epoch 130/150\n",
            "13/13 [==============================] - 7s 539ms/step - loss: 0.6277 - accuracy: 0.7800 - val_loss: 0.6450 - val_accuracy: 0.8100\n",
            "Epoch 131/150\n",
            "13/13 [==============================] - 7s 535ms/step - loss: 0.5475 - accuracy: 0.8150 - val_loss: 0.7815 - val_accuracy: 0.7400\n",
            "Epoch 132/150\n",
            "13/13 [==============================] - 7s 539ms/step - loss: 0.6475 - accuracy: 0.7650 - val_loss: 0.6396 - val_accuracy: 0.8100\n",
            "Epoch 133/150\n",
            "13/13 [==============================] - 7s 533ms/step - loss: 0.5309 - accuracy: 0.8050 - val_loss: 0.5818 - val_accuracy: 0.8200\n",
            "Epoch 134/150\n",
            "13/13 [==============================] - 7s 533ms/step - loss: 0.5578 - accuracy: 0.8000 - val_loss: 0.6193 - val_accuracy: 0.7600\n",
            "Epoch 135/150\n",
            "13/13 [==============================] - 7s 534ms/step - loss: 0.5049 - accuracy: 0.8200 - val_loss: 0.5577 - val_accuracy: 0.7800\n",
            "Epoch 136/150\n",
            "13/13 [==============================] - 7s 536ms/step - loss: 0.4802 - accuracy: 0.8200 - val_loss: 0.5899 - val_accuracy: 0.8100\n",
            "Epoch 137/150\n",
            "13/13 [==============================] - 7s 532ms/step - loss: 0.4656 - accuracy: 0.8500 - val_loss: 0.5880 - val_accuracy: 0.7800\n",
            "Epoch 138/150\n",
            "13/13 [==============================] - 7s 537ms/step - loss: 0.4821 - accuracy: 0.8175 - val_loss: 0.5940 - val_accuracy: 0.7900\n",
            "Epoch 139/150\n",
            "13/13 [==============================] - 7s 543ms/step - loss: 0.4908 - accuracy: 0.8150 - val_loss: 0.5920 - val_accuracy: 0.7900\n",
            "Epoch 140/150\n",
            "13/13 [==============================] - 7s 540ms/step - loss: 0.4119 - accuracy: 0.8350 - val_loss: 0.7675 - val_accuracy: 0.7300\n",
            "Epoch 141/150\n",
            "13/13 [==============================] - 7s 541ms/step - loss: 0.4575 - accuracy: 0.8325 - val_loss: 0.6218 - val_accuracy: 0.7800\n",
            "Epoch 142/150\n",
            "13/13 [==============================] - 7s 542ms/step - loss: 0.4284 - accuracy: 0.8400 - val_loss: 0.4816 - val_accuracy: 0.8400\n",
            "Epoch 143/150\n",
            "13/13 [==============================] - 7s 562ms/step - loss: 0.4656 - accuracy: 0.8250 - val_loss: 0.4800 - val_accuracy: 0.8400\n",
            "Epoch 144/150\n",
            "13/13 [==============================] - 7s 538ms/step - loss: 0.3953 - accuracy: 0.8450 - val_loss: 0.6600 - val_accuracy: 0.8000\n",
            "Epoch 145/150\n",
            "13/13 [==============================] - 7s 547ms/step - loss: 0.4428 - accuracy: 0.8375 - val_loss: 0.5501 - val_accuracy: 0.8200\n",
            "Epoch 146/150\n",
            "13/13 [==============================] - 7s 548ms/step - loss: 0.3899 - accuracy: 0.8650 - val_loss: 0.6100 - val_accuracy: 0.8000\n",
            "Epoch 147/150\n",
            "13/13 [==============================] - 7s 544ms/step - loss: 0.4878 - accuracy: 0.8175 - val_loss: 0.5501 - val_accuracy: 0.8100\n",
            "Epoch 148/150\n",
            "13/13 [==============================] - 7s 544ms/step - loss: 0.4224 - accuracy: 0.8575 - val_loss: 0.6175 - val_accuracy: 0.8000\n",
            "Epoch 149/150\n",
            "13/13 [==============================] - 7s 540ms/step - loss: 0.4923 - accuracy: 0.8200 - val_loss: 0.5968 - val_accuracy: 0.7900\n",
            "Epoch 150/150\n",
            "13/13 [==============================] - 7s 548ms/step - loss: 0.4176 - accuracy: 0.8450 - val_loss: 0.5134 - val_accuracy: 0.8300\n"
          ]
        }
      ],
      "source": [
        "# Train Model\n",
        "batch_size = 32\n",
        "model = create_model()\n",
        "EPOCHS = 150\n",
        "\n",
        "history = model.fit(train_dataset,\n",
        "                    epochs=EPOCHS,\n",
        "                    verbose=1,\n",
        "                    validation_data=validation_dataset)"
      ]
    },
    {
      "cell_type": "markdown",
      "source": [
        "# Model Performance"
      ],
      "metadata": {
        "id": "sG-BZ0Q7h-I6"
      },
      "id": "sG-BZ0Q7h-I6"
    },
    {
      "cell_type": "code",
      "source": [
        "# Determine for Accuracy and Loss parameter\n",
        "acc=history.history['accuracy']\n",
        "val_acc=history.history['val_accuracy']\n",
        "loss=history.history['loss']\n",
        "val_loss=history.history['val_loss']"
      ],
      "metadata": {
        "id": "sqPtD1fdcGsx"
      },
      "id": "sqPtD1fdcGsx",
      "execution_count": null,
      "outputs": []
    },
    {
      "cell_type": "code",
      "execution_count": null,
      "id": "54681ef8",
      "metadata": {
        "colab": {
          "base_uri": "https://localhost:8080/",
          "height": 298
        },
        "id": "54681ef8",
        "outputId": "14f514d4-50d3-4368-e53e-2887edced02f"
      },
      "outputs": [
        {
          "output_type": "execute_result",
          "data": {
            "text/plain": [
              "Text(0.5, 1.0, 'Training and Validation Accuracy')"
            ]
          },
          "metadata": {},
          "execution_count": 21
        },
        {
          "output_type": "display_data",
          "data": {
            "text/plain": [
              "<Figure size 432x288 with 1 Axes>"
            ],
            "image/png": "[encoded data removed]"
          },
          "metadata": {
            "needs_background": "light"
          }
        }
      ],
      "source": [
        "# Plot Training and Validation Accuracy\n",
        "plt.plot(range(EPOCHS), acc, label='Training Accuracy')\n",
        "plt.plot(range(EPOCHS), val_acc, label='Validation Accuracy')\n",
        "plt.legend(loc=0)\n",
        "plt.title('Training and Validation Accuracy')\n"
      ]
    },
    {
      "cell_type": "code",
      "source": [
        "# Plot Training and Validation Loss\n",
        "plt.plot(range(EPOCHS), loss, label='Training Loss')\n",
        "plt.plot(range(EPOCHS), val_loss, label='Validation Loss')\n",
        "plt.legend(loc=0)\n",
        "plt.title('Training and Validation Loss')"
      ],
      "metadata": {
        "colab": {
          "base_uri": "https://localhost:8080/",
          "height": 298
        },
        "id": "HHUGzBquZSzw",
        "outputId": "a49d5a72-f8f8-47a2-cc3a-0ce7168ca29d"
      },
      "id": "HHUGzBquZSzw",
      "execution_count": null,
      "outputs": [
        {
          "output_type": "execute_result",
          "data": {
            "text/plain": [
              "Text(0.5, 1.0, 'Training and Validation Loss')"
            ]
          },
          "metadata": {},
          "execution_count": 22
        },
        {
          "output_type": "display_data",
          "data": {
            "text/plain": [
              "<Figure size 432x288 with 1 Axes>"
            ],
            "image/png": "[encoded data removed]"
          },
          "metadata": {
            "needs_background": "light"
          }
        }
      ]
    },
    {
      "cell_type": "code",
      "source": [
        "# Defining Evaluation Matrix for performance analysis\n",
        "def evaluation(y, y_hat, title = 'Confusion Matrix'):\n",
        "    cm = confusion_matrix(y, y_hat)\n",
        "    precision = precision_score(y, y_hat, average='macro')\n",
        "    recall = recall_score(y, y_hat, average='macro')\n",
        "    accuracy = accuracy_score(y,y_hat)\n",
        "    f1 = f1_score(y,y_hat, average='macro')\n",
        "    print('Recall: ', recall)\n",
        "    print('Accuracy: ', accuracy)\n",
        "    print('Precision: ', precision)\n",
        "    print('F1: ', f1)\n",
        "    sns.heatmap(cm,  cmap= 'PuBu', annot=True, fmt='g', annot_kws=    {'size':20})\n",
        "    plt.xlabel('predicted', fontsize=18)\n",
        "    plt.ylabel('actual', fontsize=18)\n",
        "    plt.title(title, fontsize=18)\n",
        "    \n",
        "    plt.show();"
      ],
      "metadata": {
        "id": "BOH6Gx4TJDW3"
      },
      "execution_count": null,
      "outputs": [],
      "id": "BOH6Gx4TJDW3"
    },
    {
      "cell_type": "code",
      "source": [
        "# Show Confusion Matrix\n",
        "y_predicted = model.predict(validation_dataset)\n",
        "Y_pred = np.argmax(y_predicted, axis=1)\n",
        "\n",
        "evaluation(validation_dataset.classes, Y_pred)"
      ],
      "metadata": {
        "colab": {
          "base_uri": "https://localhost:8080/",
          "height": 376
        },
        "id": "gwFjS9pNJLLI",
        "outputId": "42a3518f-a684-4e3e-bb58-f33edad044d5"
      },
      "execution_count": null,
      "outputs": [
        {
          "output_type": "stream",
          "name": "stdout",
          "text": [
            "Recall:  0.86\n",
            "Accuracy:  0.86\n",
            "Precision:  0.8814815775069859\n",
            "F1:  0.8595128253730643\n"
          ]
        },
        {
          "output_type": "display_data",
          "data": {
            "text/plain": [
              "<Figure size 432x288 with 2 Axes>"
            ],
            "image/png": "[encoded data removed]"
          },
          "metadata": {
            "needs_background": "light"
          }
        }
      ],
      "id": "gwFjS9pNJLLI"
    },
    {
      "cell_type": "markdown",
      "source": [
        "Model Testing"
      ],
      "metadata": {
        "id": "Rib2EKYsiRA7"
      },
      "id": "Rib2EKYsiRA7"
    },
    {
      "cell_type": "code",
      "execution_count": null,
      "id": "f035bd51",
      "metadata": {
        "id": "f035bd51",
        "colab": {
          "resources": {
            "http://localhost:8080/nbextensions/google.colab/files.js": {
              "data": "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",
              "ok": true,
              "headers": [
                [
                  "content-type",
                  "application/javascript"
                ]
              ],
              "status": 200,
              "status_text": ""
            }
          },
          "base_uri": "https://localhost:8080/",
          "height": 1000
        },
        "outputId": "d1b276a9-6e05-4b13-dc44-3baae9699ca7"
      },
      "outputs": [
        {
          "output_type": "display_data",
          "data": {
            "text/plain": [
              "<IPython.core.display.HTML object>"
            ],
            "text/html": [
              "\n",
              "     <input type=\"file\" id=\"files-f03e73be-5ebb-46e7-9aef-53f7eaab132a\" name=\"files[]\" multiple disabled\n",
              "        style=\"border:none\" />\n",
              "     <output id=\"result-f03e73be-5ebb-46e7-9aef-53f7eaab132a\">\n",
              "      Upload widget is only available when the cell has been executed in the\n",
              "      current browser session. Please rerun this cell to enable.\n",
              "      </output>\n",
              "      <script src=\"/nbextensions/google.colab/files.js\"></script> "
            ]
          },
          "metadata": {}
        },
        {
          "output_type": "stream",
          "name": "stdout",
          "text": [
            "Saving whitehead3.jpg to whitehead3.jpg\n",
            "Saving whitehead2.jpg to whitehead2.jpg\n",
            "Saving images.jpg to images.jpg\n",
            "Saving cystic-acne-2.gif to cystic-acne-2.gif\n",
            "Saving Rosacea_high.jpg to Rosacea_high.jpg\n",
            "Saving rosacea.jpg to rosacea.jpg\n",
            "Saving rosacea.png to rosacea.png\n",
            "Saving blackhead2.jpg to blackhead2.jpg\n",
            "Saving pustular.jpg to pustular.jpg\n",
            "Saving blackhead.webp to blackhead.webp\n",
            "Saving cystic.jpg to cystic.jpg\n",
            "[0.23954359 0.2582071  0.10621546 0.04457247 0.35146135]\n",
            "4\n",
            "whitehead3.jpg\n",
            "Whitehead\n",
            "[0.9598404  0.0012473  0.0189744  0.01672488 0.00321301]\n",
            "0\n",
            "whitehead2.jpg\n",
            "Blackhead\n",
            "[0.70547354 0.21661761 0.0559998  0.01979878 0.00211018]\n",
            "0\n",
            "images.jpg\n",
            "Blackhead\n",
            "[9.3238550e-01 3.7269641e-02 1.2289684e-02 1.7595373e-02 4.5979352e-04]\n",
            "0\n",
            "cystic-acne-2.gif\n",
            "Blackhead\n",
            "[1.89583193e-06 4.18725517e-03 7.42597044e-01 2.53213733e-01\n",
            " 1.01427894e-10]\n",
            "2\n",
            "Rosacea_high.jpg\n",
            "Pustular\n",
            "[9.2821974e-06 1.0802677e-03 5.6305110e-02 9.4259125e-01 1.4121813e-05]\n",
            "3\n",
            "rosacea.jpg\n",
            "Rosacea\n",
            "[7.30367184e-01 1.07349485e-01 2.86383741e-02 1.33459092e-04\n",
            " 1.33511528e-01]\n",
            "0\n",
            "rosacea.png\n",
            "Blackhead\n",
            "[0.06005225 0.10869054 0.01454515 0.00386051 0.8128515 ]\n",
            "4\n",
            "blackhead2.jpg\n",
            "Whitehead\n",
            "[1.7242984e-08 2.5453069e-06 9.9999392e-01 3.0890310e-10 3.5414264e-06]\n",
            "2\n",
            "pustular.jpg\n",
            "Pustular\n",
            "[6.4044423e-02 9.2548662e-01 6.4143515e-03 4.8269700e-05 4.0063746e-03]\n",
            "1\n",
            "blackhead.webp\n",
            "Cystic\n",
            "[2.7311887e-04 2.1689173e-02 9.7186208e-01 5.3778556e-03 7.9781003e-04]\n",
            "2\n",
            "cystic.jpg\n",
            "Pustular\n"
          ]
        }
      ],
      "source": [
        "# Test Model\n",
        "uploaded = files.upload()\n",
        "\n",
        "for fn in uploaded.keys():\n",
        "  # Upload image\n",
        "  path = '/content/' + fn\n",
        "  img = image.load_img(path, target_size=(224, 224))\n",
        "  x = image.img_to_array(img)\n",
        "  x /= 255\n",
        "  x = np.expand_dims(x, axis=0)\n",
        "\n",
        "  # Class probability list\n",
        "  images = np.vstack([x])\n",
        "  classes = model.predict(images, batch_size=10)\n",
        "  temp = []\n",
        "  temp = classes[0] \n",
        "  # print(temp)\n",
        "  # print(np.argmax(temp)) \n",
        "  # print(fn)\n",
        "\n",
        "  # Assing variable to dictionary\n",
        "  key_list = list(class_index.keys())\n",
        "  val_list = list(class_index.values())\n",
        " \n",
        "  # Print prediction result\n",
        "  position = val_list.index(np.argmax(temp))\n",
        "  print(key_list[position])"
      ]
    },
    {
      "cell_type": "markdown",
      "source": [
        "# Save and Convert Model"
      ],
      "metadata": {
        "id": "IZtgT2QxiFyL"
      },
      "id": "IZtgT2QxiFyL"
    },
    {
      "cell_type": "code",
      "source": [
        "# # Save Model\n",
        "# RPS_SAVED_MODEL = \"rps_saved_model\"\n",
        "# tf.saved_model.save(model, RPS_SAVED_MODEL)"
      ],
      "metadata": {
        "colab": {
          "base_uri": "https://localhost:8080/"
        },
        "id": "jHOUy9TIUFzW",
        "outputId": "41f3ece8-64cd-4c96-f394-c2a57539f6a8"
      },
      "id": "jHOUy9TIUFzW",
      "execution_count": null,
      "outputs": [
        {
          "output_type": "stream",
          "name": "stdout",
          "text": [
            "INFO:tensorflow:Assets written to: rps_saved_model/assets\n"
          ]
        }
      ]
    },
    {
      "cell_type": "code",
      "source": [
        "# %%bash -s $RPS_SAVED_MODEL\n",
        "# saved_model_cli show --dir $1 --tag_set serve --signature_def serving_default"
      ],
      "metadata": {
        "colab": {
          "base_uri": "https://localhost:8080/"
        },
        "id": "DbexInqgUH7j",
        "outputId": "690e2d71-f4c6-4a2e-c519-f9ed3f990a64"
      },
      "id": "DbexInqgUH7j",
      "execution_count": null,
      "outputs": [
        {
          "output_type": "stream",
          "name": "stdout",
          "text": [
            "The given SavedModel SignatureDef contains the following input(s):\n",
            "  inputs['conv2d_input'] tensor_info:\n",
            "      dtype: DT_FLOAT\n",
            "      shape: (-1, 224, 224, 3)\n",
            "      name: serving_default_conv2d_input:0\n",
            "The given SavedModel SignatureDef contains the following output(s):\n",
            "  outputs['dense_2'] tensor_info:\n",
            "      dtype: DT_FLOAT\n",
            "      shape: (-1, 5)\n",
            "      name: StatefulPartitionedCall:0\n",
            "Method name is: tensorflow/serving/predict\n"
          ]
        }
      ]
    },
    {
      "cell_type": "code",
      "source": [
        "# loaded = tf.saved_model.load(RPS_SAVED_MODEL)"
      ],
      "metadata": {
        "id": "456kzRHYUJ0a"
      },
      "id": "456kzRHYUJ0a",
      "execution_count": null,
      "outputs": []
    },
    {
      "cell_type": "code",
      "source": [
        "# print(list(loaded.signatures.keys()))\n",
        "# infer = loaded.signatures[\"serving_default\"]\n",
        "# print(infer.structured_input_signature)\n",
        "# print(infer.structured_outputs)"
      ],
      "metadata": {
        "colab": {
          "base_uri": "https://localhost:8080/"
        },
        "id": "elGj8b0jULkc",
        "outputId": "f4c060bc-c9b0-48c9-dbb1-7e578e57e21d"
      },
      "id": "elGj8b0jULkc",
      "execution_count": null,
      "outputs": [
        {
          "output_type": "stream",
          "name": "stdout",
          "text": [
            "['serving_default']\n",
            "((), {'conv2d_input': TensorSpec(shape=(None, 224, 224, 3), dtype=tf.float32, name='conv2d_input')})\n",
            "{'dense_2': TensorSpec(shape=(None, 5), dtype=tf.float32, name='dense_2')}\n"
          ]
        }
      ]
    },
    {
      "cell_type": "code",
      "source": [
        "# converter = tf.lite.TFLiteConverter.from_saved_model(RPS_SAVED_MODEL)\n",
        "# converter.optimizations = [tf.lite.Optimize.OPTIMIZE_FOR_SIZE]\n",
        "# tflite_model = converter.convert()"
      ],
      "metadata": {
        "id": "WTwGB5AeURVC",
        "colab": {
          "base_uri": "https://localhost:8080/"
        },
        "outputId": "2b1aa415-755c-484b-9c27-0b82dbc7498e"
      },
      "id": "WTwGB5AeURVC",
      "execution_count": null,
      "outputs": [
        {
          "output_type": "stream",
          "name": "stderr",
          "text": [
            "WARNING:absl:Optimization option OPTIMIZE_FOR_SIZE is deprecated, please use optimizations=[Optimize.DEFAULT] instead.\n",
            "WARNING:absl:Optimization option OPTIMIZE_FOR_SIZE is deprecated, please use optimizations=[Optimize.DEFAULT] instead.\n"
          ]
        }
      ]
    },
    {
      "cell_type": "code",
      "source": [
        "# Save Model\n",
        "export_dir = 'saved_model/1' \n",
        "tf.saved_model.save(model, export_dir)\n",
        "\n",
        "converter = tf.lite.TFLiteConverter.from_saved_model(export_dir)\n",
        "\n",
        "# Invoke the converter to finally generate the TFLite model\n",
        "tflite_model = converter.convert()"
      ],
      "metadata": {
        "colab": {
          "base_uri": "https://localhost:8080/"
        },
        "id": "gZNUWTdt9Lxs",
        "outputId": "a6d18e74-1f27-48f0-b9c8-5c52f5471a37"
      },
      "id": "gZNUWTdt9Lxs",
      "execution_count": null,
      "outputs": [
        {
          "output_type": "stream",
          "name": "stdout",
          "text": [
            "INFO:tensorflow:Assets written to: saved_model/1/assets\n"
          ]
        },
        {
          "output_type": "stream",
          "name": "stderr",
          "text": [
            "INFO:tensorflow:Assets written to: saved_model/1/assets\n",
            "WARNING:absl:Buffer deduplication procedure will be skipped when flatbuffer library is not properly loaded\n"
          ]
        }
      ]
    },
    {
      "cell_type": "code",
      "source": [
        "# Save to TFlite model file\n",
        "tflite_model_file = 'modelconverted.tflite'\n",
        "\n",
        "with open(tflite_model_file, \"wb\") as f:\n",
        "    f.write(tflite_model)"
      ],
      "metadata": {
        "id": "hD7ytKUyUR4M"
      },
      "id": "hD7ytKUyUR4M",
      "execution_count": null,
      "outputs": []
    },
    {
      "cell_type": "code",
      "source": [
        "tflite_model_file = pathlib.Path(\"/content/model.tflite\")\n",
        "tflite_model_file.write_bytes(tflite_model)"
      ],
      "metadata": {
        "id": "1xMn4tIpLBGz",
        "colab": {
          "base_uri": "https://localhost:8080/"
        },
        "outputId": "84a2b76c-550e-4fb6-a8a6-9ebbff8eea8b"
      },
      "id": "1xMn4tIpLBGz",
      "execution_count": null,
      "outputs": [
        {
          "output_type": "execute_result",
          "data": {
            "text/plain": [
              "47862944"
            ]
          },
          "metadata": {},
          "execution_count": 27
        }
      ]
    },
    {
      "cell_type": "markdown",
      "source": [
        "# Interpreter"
      ],
      "metadata": {
        "id": "r_4IXl8eTBa8"
      },
      "id": "r_4IXl8eTBa8"
    },
    {
      "cell_type": "code",
      "source": [
        "# Define Interpreter for TFlite model test\n",
        "\n",
        "def run_tflite_model(tflite_file, test_image):\n",
        "    interpreter = tf.lite.Interpreter(model_path=str(tflite_file))\n",
        "    interpreter.allocate_tensors()\n",
        "    print(interpreter.get_input_details())\n",
        "    input_details = interpreter.get_input_details()[0]\n",
        "    output_details = interpreter.get_output_details()[0]\n",
        "\n",
        "    interpreter.set_tensor(input_details[\"index\"], test_image)\n",
        "    interpreter.invoke()\n",
        "    output = interpreter.get_tensor(output_details[\"index\"])[0]\n",
        "    print(\"mean\", np.mean(output))\n",
        "    print(\"std\", np.std(output))\n",
        "    prediction = output.argmax()\n",
        "\n",
        "    return prediction"
      ],
      "metadata": {
        "id": "lPQ1LdnBS9V4"
      },
      "id": "lPQ1LdnBS9V4",
      "execution_count": null,
      "outputs": []
    },
    {
      "cell_type": "code",
      "source": [
        "# Test prediction in Interpreter\n",
        "if __name__ == '__main__':\n",
        "    converted_model = \"/content/modelconverted.tflite\"\n",
        "    bad_image_path = \"/content/Data2/Data/test/Cystic/acne-cystic-122.jpg\"\n",
        "\n",
        "    img = imageio.imread(bad_image_path)\n",
        "    resized = cv2.resize(img, (224, 224)).astype('float32')\n",
        "    resized = resized / 255.\n",
        "    test_image = np.expand_dims(resized, axis=0)\n",
        "    \n",
        "    prediction = run_tflite_model(converted_model,test_image)\n",
        "    print(prediction)"
      ],
      "metadata": {
        "id": "yswW5bnpS-JI",
        "colab": {
          "base_uri": "https://localhost:8080/"
        },
        "outputId": "644e9a7a-d0de-41b5-8222-316a4d27396e"
      },
      "id": "yswW5bnpS-JI",
      "execution_count": null,
      "outputs": [
        {
          "output_type": "stream",
          "name": "stdout",
          "text": [
            "[{'name': 'serving_default_conv2d_4_input:0', 'index': 0, 'shape': array([  1, 224, 224,   3], dtype=int32), 'shape_signature': array([ -1, 224, 224,   3], dtype=int32), 'dtype': <class 'numpy.float32'>, 'quantization': (0.0, 0), 'quantization_parameters': {'scales': array([], dtype=float32), 'zero_points': array([], dtype=int32), 'quantized_dimension': 0}, 'sparsity_parameters': {}}]\n",
            "mean 0.2\n",
            "std 0.38942048\n",
            "1\n"
          ]
        }
      ]
    }
  ],
  "metadata": {
    "kernelspec": {
      "display_name": "Python 3 (ipykernel)",
      "language": "python",
      "name": "python3"
    },
    "language_info": {
      "codemirror_mode": {
        "name": "ipython",
        "version": 3
      },
      "file_extension": ".py",
      "mimetype": "text/x-python",
      "name": "python",
      "nbconvert_exporter": "python",
      "pygments_lexer": "ipython3",
      "version": "3.9.7"
    },
    "colab": {
      "name": "Bangkit_Project.ipynb",
      "provenance": [],
      "collapsed_sections": []
    },
    "accelerator": "GPU"
  },
  "nbformat": 4,
  "nbformat_minor": 5
}